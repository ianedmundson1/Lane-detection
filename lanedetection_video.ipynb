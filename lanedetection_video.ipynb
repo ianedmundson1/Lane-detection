{
 "cells": [
  {
   "cell_type": "markdown",
   "id": "e62e5920",
   "metadata": {},
   "source": [
    "# Lane Detection on Video\n",
    "This notebook demonstrates a lane detection pipeline on video using OpenCV. It processes each frame to identify and highlight lane lines, and outputs a processed video with detected lanes overlaid."
   ]
  },
  {
   "cell_type": "code",
   "execution_count": null,
   "id": "75191816",
   "metadata": {},
   "outputs": [],
   "source": [
    "import numpy as np\n",
    "import matplotlib\n",
    "import cv2\n",
    "import imutils"
   ]
  },
  {
   "cell_type": "markdown",
   "id": "e288de8f",
   "metadata": {},
   "source": [
    "## Moving Average Lists\n",
    "Lists to store points for calculating the moving average of detected lane lines, which helps smooth the lane detection results over time."
   ]
  },
  {
   "cell_type": "code",
   "execution_count": null,
   "id": "7e2eaced",
   "metadata": {},
   "outputs": [],
   "source": [
    "#list for moving average\n",
    "ptsMAR = []\n",
    "ptsMAL = []"
   ]
  },
  {
   "cell_type": "markdown",
   "id": "d4928ce1",
   "metadata": {},
   "source": [
    "## Snip Image Function\n",
    "Defines a function to crop the region of interest from each video frame, focusing on the area where lanes are expected to appear."
   ]
  },
  {
   "cell_type": "code",
   "execution_count": null,
   "id": "e748f447",
   "metadata": {},
   "outputs": [],
   "source": [
    "def snip_image(image):\n",
    "\tsnip = image[(image.shape[0]-300):(image.shape[0]-50),(0):(image.shape[1])]\n",
    "\treturn snip"
   ]
  },
  {
   "cell_type": "markdown",
   "id": "90de4a6e",
   "metadata": {},
   "source": [
    "## Mask Image Function\n",
    "Defines a function to create a polygonal mask over the region of interest, isolating the lane area for further processing."
   ]
  },
  {
   "cell_type": "code",
   "execution_count": null,
   "id": "d3f4b308",
   "metadata": {},
   "outputs": [],
   "source": [
    "def mask_image(image):\n",
    "\tmask = np.zeros((image.shape[0],image.shape[1]), dtype = \"uint8\")\n",
    "\t#points were changed to create a mask better suited to the new snip\n",
    "\tpts = np.array([[105,image.shape[0]-10],[105,image.shape[0]-25],[int(image.shape[1]/2)-20,150], \n",
    "\t\t[260,150],[image.shape[1]-120, image.shape[0]-40],[image.shape[1]-120, image.shape[0]-10]],dtype=np.int32)\n",
    "\t\n",
    "\t#for point in pts:\n",
    "\t\t#cv2.circle(image, tuple(point), 4, (0,255,0), -1)\n",
    "\tcv2.fillConvexPoly(mask, pts,255)\n",
    "\t\n",
    "\tmasked = cv2.bitwise_and(image,image,mask=mask)\n",
    "\treturn masked\n"
   ]
  },
  {
   "cell_type": "markdown",
   "id": "41caa913",
   "metadata": {},
   "source": [
    "## Threshold Image Function\n",
    "Defines a function to apply color thresholding to the masked image, highlighting lane lines based on color and brightness."
   ]
  },
  {
   "cell_type": "code",
   "execution_count": null,
   "id": "f9269698",
   "metadata": {},
   "outputs": [],
   "source": [
    "def thresh_image(image):\n",
    "\thsv = cv2.cvtColor(image,cv2.COLOR_BGR2HSV)\n",
    "\n",
    "\tgray = cv2.cvtColor(image,cv2.COLOR_BGR2GRAY)\n",
    "\t#added a new mask to pick up yellow colors\n",
    "\tyellowLower = np.array([0,65,164])\n",
    "\tyellowUpper = np.array([255,255,255])\n",
    "\t\n",
    "\tredLower = np.array([140,20,0])\n",
    "\tredUpper = np.array([230,100,50])\n",
    "\t\n",
    "\t#changed upper white to fully white\n",
    "\twhiteLower = np.array([30,0,65])\n",
    "\twhiteUpper = np.array([255,255,255])\n",
    "\tyellow_mask = cv2.inRange(hsv, yellowLower, yellowUpper)\n",
    "\twhite_mask = cv2.inRange(hsv, whiteLower, whiteUpper)\n",
    "\t\n",
    "\tred_mask = cv2.inRange(hsv, redLower, redUpper)\n",
    "\t\n",
    "\t\n",
    "\t#creates a mask usng the yellow and white mask against each other \n",
    "\tfull_mask = cv2.bitwise_or(yellow_mask, white_mask)\n",
    "\t\n",
    "\t\n",
    "\t#creates a mask using the gray scale against the full mask \n",
    "\tframe = cv2.bitwise_or(gray, full_mask)\n",
    "\tthreshold = 100 \n",
    "\tblack_white = cv2.threshold(frame, threshold, 255, cv2.THRESH_BINARY)[1]\n",
    "\treturn black_white"
   ]
  },
  {
   "cell_type": "markdown",
   "id": "4091207f",
   "metadata": {},
   "source": [
    "## Blur Image Function\n",
    "Defines a function to blur the thresholded image, reducing noise and improving edge detection."
   ]
  },
  {
   "cell_type": "code",
   "execution_count": null,
   "id": "bd35aaf6",
   "metadata": {},
   "outputs": [],
   "source": [
    "def blur_image(image):\n",
    "\t#blurs the image to help with edge detection\n",
    "\treturn cv2.GaussianBlur(image, (21,21),0)"
   ]
  },
  {
   "cell_type": "markdown",
   "id": "ddf6dcd0",
   "metadata": {},
   "source": [
    "## Edge Detection Function\n",
    "Defines a function to detect edges in the blurred image using the Canny edge detector, which helps identify lane boundaries."
   ]
  },
  {
   "cell_type": "code",
   "execution_count": null,
   "id": "48b1c9d5",
   "metadata": {},
   "outputs": [],
   "source": [
    "\n",
    "def edge_image(image):\n",
    "\t#identifys edges in the image\n",
    "\treturn cv2.Canny(image,30,130)"
   ]
  },
  {
   "cell_type": "markdown",
   "id": "b67bc673",
   "metadata": {},
   "source": [
    "## Hough Line Detection Function\n",
    "Defines a function to detect lines in the edge-detected image using the Hough Transform, which is used to find lane lines."
   ]
  },
  {
   "cell_type": "code",
   "execution_count": null,
   "id": "d5f74573",
   "metadata": {},
   "outputs": [],
   "source": [
    "def lined_image(image):\n",
    "\t\n",
    "\treturn cv2.HoughLines(image, 1, np.pi/180,30)\n"
   ]
  },
  {
   "cell_type": "markdown",
   "id": "716824fb",
   "metadata": {},
   "source": [
    "## Show Line Function\n",
    "Defines a function to process detected lines, classify them as left or right lanes, and prepare them for averaging and visualization."
   ]
  },
  {
   "cell_type": "code",
   "execution_count": null,
   "id": "a9faa0a6",
   "metadata": {},
   "outputs": [],
   "source": [
    "def show_line(lines,snip,color):\n",
    "\t\n",
    "\tif lines is not None:\n",
    "\t\t#varibale for number of iteration for the lines of the left or right lane\n",
    "\t\tL = 0\n",
    "\t\tR = 0\n",
    "\t\t#placeholder varible for the points\n",
    "\t\tpt1L = (0,0)\n",
    "\t\tpt2L = (0,0)\n",
    "\t\tpt1R = (0,0)\n",
    "\t\tpt2R = (0,0)\n",
    "\t\tfor i in range(0,len(lines)):\n",
    "\t\t\trho = lines[i][0][0]\n",
    "\t\t\ttheta = lines[i][0][1]\n",
    "\t\t\t\n",
    "\t\t\ta = np.cos(theta)\n",
    "\t\t\tb = np.sin(theta)\n",
    "\t\t\t\n",
    "\t\t\tx0 = a*rho\n",
    "\t\t\t#fixes offest between my mask and my original image \n",
    "\t\t\ty0 = b*rho + 60\n",
    "\t\t\t\n",
    "\t\t\tpt1 = int(x0 + 1000*(-b)), int(y0+1000*(a))\n",
    "\t\t\tpt2 = int(x0 - 1000*(-b)), int(y0-1000*(a))\n",
    "\t\t\t\n",
    "\t\t\t#Checks if the x coordinate of the point is in the left hand side or right side of the screen by checking if its negative, \n",
    "\t\t\t#this would mean its in the left hand side\t\n",
    "\t\t\tif pt2[1] < 0:\n",
    "\t\t\t\tpt1L = tuple(map(sum,zip(pt1L,pt1)))\n",
    "\t\t\t\tpt2L = tuple(map(sum,zip(pt2L,pt2)))\n",
    "\t\t\t\tL +=1\n",
    "\t\t\telse:\n",
    "\t\t\t\tpt1R = tuple(map(sum,zip(pt1R,pt1)))\n",
    "\t\t\t\tpt2R = tuple(map(sum,zip(pt2R,pt2)))\n",
    "\t\t\t\tR +=1\n",
    "\t\t\t\n",
    "\t\t\n",
    "\t\t#checks if the the line returns none and makes the points of the line zero so they can be ignored later in the code \n",
    "\t\t#or will take the points and find the average of the left and right points of the line\n",
    "\t\tif L == 0 and R == 0:\n",
    "\t\t\n",
    "\t\t\tpt1L = 0\n",
    "\t\t\tpt2L = 0\n",
    "\t\t\tpt1R = 0\n",
    "\t\t\tpt2R = 0\n",
    "\n",
    "\t\telif L == 0 and R != 0:\n",
    "\n",
    "\t\t\tpt1L = 0\n",
    "\t\t\tpt2L = 0\n",
    "\t\t\tpt1R = tuple(map(lambda x: int(x/R), pt1R))\n",
    "\t\t\tpt2R = tuple(map(lambda x: int(x/R), pt2R))\n",
    "\t\telif R == 0 and L != 0:\n",
    "\t\t\n",
    "\t\t\tpt1R = 0\n",
    "\t\t\tpt2R = 0\n",
    "\t\t\tpt1L = tuple(map(lambda x: int(x/L), pt1L))\n",
    "\t\t\tpt2L = tuple(map(lambda x: int(x/L), pt2L))\n",
    "\t\telse:\n",
    "\t\t\tpt1R = tuple(map(lambda x: int(x/R), pt1R))\n",
    "\t\t\tpt2R = tuple(map(lambda x: int(x/R), pt2R))\n",
    "\t\t\tpt1L = tuple(map(lambda x: int(x/L), pt1L))\n",
    "\t\t\tpt2L = tuple(map(lambda x: int(x/L), pt2L))\n",
    "\t\t#moves points to the moving average function\n",
    "\t\tmoving_average(snip,(pt1L,pt2L),(pt1R,pt2R))\n",
    "\n",
    "\t\t\n",
    "\t\n",
    "\treturn None"
   ]
  },
  {
   "cell_type": "markdown",
   "id": "6333e684",
   "metadata": {},
   "source": [
    "## Moving Average Function\n",
    "Defines a function to compute the moving average of detected lane line points, draw the averaged lines, and overlay them on the video frame for smoother visualization."
   ]
  },
  {
   "cell_type": "code",
   "execution_count": null,
   "id": "6ba628f2",
   "metadata": {},
   "outputs": [],
   "source": [
    "#used to get the moving average of the left and right lane lines points\n",
    "def moving_average(snip,ptsL, ptsR):\n",
    "\t\n",
    "\t#list shown at the beginning which holds the points of the moving average \n",
    "\tglobal ptsMAR\n",
    "\tglobal ptsMAL\n",
    "\n",
    "\t#if the points were from a none or were not picked up by the algorithm it will not add them to the list\n",
    "\tif ptsR != (0,0):\n",
    "\n",
    "\t\tptsMAR.append(ptsR)\n",
    "\n",
    "\tif ptsL != (0,0):\n",
    "\n",
    "\t\tptsMAL.append(ptsL)\n",
    "\t#if the list is greater than 50 it will get rid of the first element in the list\n",
    "\tif len(ptsMAR) > 50:\n",
    "\n",
    "\t\tptsMAR.pop(0)\n",
    "\n",
    "\tif len(ptsMAL) > 50:\n",
    "\n",
    "\t\tptsMAL.pop(0)\n",
    "\t\n",
    "\t#does the average og the points \n",
    "\tpts1L = tuple(map(lambda x: int(x/len(ptsMAL)), tuple([sum(i) for i in zip(*[a_tuple[0] for a_tuple in ptsMAL])])))\t\n",
    "\tpts2L = tuple(map(lambda x: int(x/len(ptsMAL)), tuple([sum(i) for i in zip(*[a_tuple[1] for a_tuple in ptsMAL])])))\n",
    "\tpts1R = tuple(map(lambda x: int(x/len(ptsMAR)), tuple([sum(i) for i in zip(*[a_tuple[0] for a_tuple in ptsMAR])])))\n",
    "\tpts2R = tuple(map(lambda x: int(x/len(ptsMAR)), tuple([sum(i) for i in zip(*[a_tuple[1] for a_tuple in ptsMAR])])))\n",
    "\t\n",
    "\t\n",
    "\t#using the average of points it creates a slope and y intercept to find the new points x coordinate for the wanted y coordinates based off of the images shape.\n",
    "\t#as you can see point pt1 will represent the bottom point on the screen since its at 480\n",
    "\tslopeL = (pts2L[1]-pts1L[1])/(pts2L[0]-pts1L[0])\n",
    "\tbL = pts1L[1]-pts1L[0]*slopeL\n",
    "\t\t\n",
    "\tpt1L = (int((480-bL)/slopeL),480)\n",
    "\tpt2L = (int((230-bL)/slopeL),230)\n",
    "\n",
    "\t\n",
    "\t\n",
    "\tslopeR = (pts2R[1]-pts1R[1])/(pts2R[0]-pts1R[0])\n",
    "\tbR = pts2R[1]-pts2R[0]*slopeR\n",
    "\tpt1R = (int((480-bR)/slopeR),480)\n",
    "\tpt2R = (int((230-bR)/slopeR),230)\n",
    "\t\n",
    "\t#creates a copy of the image to overlay the lines on \n",
    "\toverlay = snip.copy()\n",
    "\t#creates a line based on the points created by the slope and inter\n",
    "\tcv2.line(overlay, pt2L,pt1L, (255,0,0), 10)\n",
    "\tcv2.line(overlay, pt1R,pt2R, (0,0,255), 10)\n",
    "\t\n",
    "\t#creates a transparency to the lines that were just created\n",
    "\timage = cv2.addWeighted(overlay, .4, snip, 1 - .4,0)\n",
    "\t\n",
    "\tcv2.imshow(\"lined\", image)\n",
    "\t\t\t\n",
    "\t\t\t\n",
    "\tcv2.waitKey(1)\n",
    "\n",
    "\treturn None"
   ]
  },
  {
   "cell_type": "markdown",
   "id": "0fc06d0f",
   "metadata": {},
   "source": [
    "## Main Processing Loop\n",
    "Defines the main function that loads the video, processes each frame through the lane detection pipeline, and writes the output video with detected lanes."
   ]
  },
  {
   "cell_type": "code",
   "execution_count": null,
   "id": "c198b689",
   "metadata": {},
   "outputs": [],
   "source": [
    "def main():\n",
    "\t\n",
    "\t#loads the video\n",
    "\tvid = cv2.VideoCapture(\"video/test_video_01.mp4\")\n",
    "\twidth = int(vid.get(cv2.CAP_PROP_FRAME_WIDTH))\n",
    "\theight = int(vid.get(cv2.CAP_PROP_FRAME_HEIGHT))\n",
    "\tfps = vid.get(cv2.CAP_PROP_FPS)\n",
    "    # Define the codec and create VideoWriter object\n",
    "\tfourcc = cv2.VideoWriter_fourcc(*'mp4v')  # or 'XVID'\n",
    "\tout = cv2.VideoWriter('video/output_lanes.mp4', fourcc, fps, (width, height))\n",
    "\n",
    "\t#will continue running till the video is over\n",
    "\twhile (vid.isOpened()):\n",
    "\t\t# ret is equal to true while the video is running and image is the frame captured from the video\n",
    "\t\tret, image = vid.read()\n",
    "\t\t#if video is running ths will run\n",
    "\t\tif ret == True:\n",
    "\t\t   \n",
    "\t\t\t\n",
    "\t\t\tsnip = snip_image(image)\n",
    "\t\t\t\n",
    "\t\t\tmask = mask_image(snip)\n",
    "\n",
    "\t\t\tframe = thresh_image(mask)\n",
    "\n",
    "\t\t\tblur = blur_image(frame)\n",
    "\n",
    "\t\t\tedged= edge_image(blur)\n",
    "\t\t\n",
    "\t\t\tlines = lined_image(edged)\n",
    "\t\t\t\n",
    "\t\t\t\n",
    "\t\t\tshow_line(lines,image,(0,0,255))\n",
    "\t\t\t\n",
    "\t\t\tout.write(image)\n",
    "\t\t\t#if the video is running and q is pressed on the keyboard the while loop will break and video will end\n",
    "\t\t\tif cv2.waitKey(1) & 0xFF == ord('q'):\n",
    "\t\t\t\tbreak\n",
    "\t\t\n",
    "\t\t#if the the video ends by itself the video will be closed and all windows will be destroyed, edning the code\n",
    "\t\tif ret == False:\n",
    "\t\t\tvid.release()\n",
    "\t\t\tcv2.destroyAllWindows()\n",
    "\t"
   ]
  },
  {
   "cell_type": "markdown",
   "id": "fcc6166d",
   "metadata": {},
   "source": [
    "## Run the Lane Detection Pipeline\n",
    "Executes the main function to start processing the video and display the results."
   ]
  },
  {
   "cell_type": "code",
   "execution_count": null,
   "id": "a9afe9b6",
   "metadata": {},
   "outputs": [],
   "source": [
    "main()"
   ]
  }
 ],
 "metadata": {
  "language_info": {
   "name": "python"
  }
 },
 "nbformat": 4,
 "nbformat_minor": 5
}
