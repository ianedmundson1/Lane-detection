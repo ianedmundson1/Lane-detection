{
 "cells": [
  {
   "cell_type": "markdown",
   "id": "929b0cbf",
   "metadata": {},
   "source": [
    "# Lane Detection on a Single Image\n",
    "\n",
    "This notebook demonstrates lane detection on a single image using OpenCV and NumPy. The workflow includes cropping the region of interest, masking, thresholding, blurring, edge detection, and line detection to highlight lane lines in a road image.\n",
    "\n",
    "---\n",
    "\n",
    "## 1. Import Required Libraries\n",
    "The following libraries are used for image processing and manipulation: NumPy, Matplotlib, OpenCV, and imutils."
   ]
  },
  {
   "cell_type": "code",
   "execution_count": 4,
   "id": "f2a8e8e1",
   "metadata": {},
   "outputs": [],
   "source": [
    "import numpy as np\n",
    "import matplotlib\n",
    "import cv2\n",
    "import imutils"
   ]
  },
  {
   "cell_type": "markdown",
   "id": "07b25f65",
   "metadata": {},
   "source": [
    "## 2. Crop Region of Interest\n",
    "The `snip_image` function crops the lower part of the image to focus on the road area where lane lines are expected."
   ]
  },
  {
   "cell_type": "code",
   "execution_count": 2,
   "id": "79375b15",
   "metadata": {},
   "outputs": [],
   "source": [
    "def snip_image(image):\n",
    "\tred = (0,0,255)\n",
    "\tsnip = image[(image.shape[0]-300):(image.shape[0]-50),(0):(image.shape[1])]\n",
    "\treturn snip"
   ]
  },
  {
   "cell_type": "markdown",
   "id": "9b40796e",
   "metadata": {},
   "source": [
    "## 3. Apply Polygonal Mask\n",
    "The `mask_image` function applies a polygonal mask to the image, isolating the region where lane lines are likely to appear."
   ]
  },
  {
   "cell_type": "code",
   "execution_count": 3,
   "id": "3e348da4",
   "metadata": {},
   "outputs": [],
   "source": [
    "def mask_image(image):\n",
    "\tmask = np.zeros((image.shape[0],image.shape[1]), dtype = \"uint8\")\n",
    "\n",
    "\tpts = np.array([[90,image.shape[0]-25],[90,image.shape[0]-35],[int(image.shape[1]/2)-30,100], \n",
    "\t\t[int(image.shape[1]/2)+30,100],[image.shape[1]-90, image.shape[0]-35],\n",
    "\t\t[image.shape[1]-90, image.shape[0]-25]],dtype=np.int32)\n",
    "\t\n",
    "\tfor point in pts:\n",
    "\t\tcv2.circle(image, tuple(point), 4, (0,255,0), -1)\n",
    "\tcv2.fillConvexPoly(mask, pts,255)\n",
    "\t\n",
    "\tmasked = cv2.bitwise_and(image,image,mask=mask)\n",
    "\treturn masked"
   ]
  },
  {
   "cell_type": "markdown",
   "id": "5be7d7d0",
   "metadata": {},
   "source": [
    "## 4. Thresholding for Lane Lines\n",
    "The `thresh_image` function converts the image to HSV and grayscale, then applies a mask to highlight white lane markings."
   ]
  },
  {
   "cell_type": "code",
   "execution_count": 5,
   "id": "833fb90b",
   "metadata": {},
   "outputs": [],
   "source": [
    "def thresh_image(image):\n",
    "\thsv = cv2.cvtColor(image,cv2.COLOR_BGR2HSV)\n",
    "\n",
    "\tgray = cv2.cvtColor(image,cv2.COLOR_BGR2GRAY)\n",
    "\t\n",
    "\twhiteLower = np.array([30,0,65])\n",
    "\twhiteUpper = np.array([255,255,150])\n",
    "\twhite_mask = cv2.inRange(hsv, whiteLower, whiteUpper)\n",
    "\tframe = cv2.bitwise_or(gray, white_mask)\n",
    "\tthreshold = 100 \n",
    "\tblack_white = cv2.threshold(frame, threshold, 255, cv2.THRESH_BINARY)[1]\n",
    "\treturn white_mask"
   ]
  },
  {
   "cell_type": "markdown",
   "id": "a414b441",
   "metadata": {},
   "source": [
    "## 5. Gaussian Blurring\n",
    "The `blur_image` function applies Gaussian blur to the image to reduce noise and smooth the result."
   ]
  },
  {
   "cell_type": "code",
   "execution_count": 6,
   "id": "dc4a1509",
   "metadata": {},
   "outputs": [],
   "source": [
    "def blur_image(image):\n",
    "\n",
    "\n",
    "\treturn cv2.GaussianBlur(image, (15,15),0)"
   ]
  },
  {
   "cell_type": "markdown",
   "id": "902c8234",
   "metadata": {},
   "source": [
    "## 6. Edge Detection\n",
    "The `edge_image` function uses the Canny algorithm to detect edges in the blurred image, which helps in identifying lane boundaries."
   ]
  },
  {
   "cell_type": "code",
   "execution_count": 7,
   "id": "492182ec",
   "metadata": {},
   "outputs": [],
   "source": [
    "def edge_image(image):\n",
    "\n",
    "\treturn cv2.Canny(image,30,130)"
   ]
  },
  {
   "cell_type": "markdown",
   "id": "d1930645",
   "metadata": {},
   "source": [
    "## 7. Line Detection\n",
    "The `lined_image` function applies the Hough Transform to detect straight lines in the edge-detected image, corresponding to lane markers."
   ]
  },
  {
   "cell_type": "code",
   "execution_count": 8,
   "id": "97e9f25a",
   "metadata": {},
   "outputs": [],
   "source": [
    "def lined_image(image):\n",
    "\n",
    "\treturn cv2.HoughLines(image, 1, np.pi/180,20)\n",
    "\t"
   ]
  },
  {
   "cell_type": "markdown",
   "id": "3155193e",
   "metadata": {},
   "source": [
    "## 8. Lane Detection Pipeline\n",
    "The `main` function orchestrates the lane detection process: reading the image, applying all processing steps, and displaying the result with detected lane lines."
   ]
  },
  {
   "cell_type": "code",
   "execution_count": null,
   "id": "20f60f69",
   "metadata": {},
   "outputs": [],
   "source": [
    "def main():\n",
    "\timage = cv2.imread(\"images/20190219.jpg\")\n",
    "\t#print(image.shape)\n",
    "\t# cv2.imshow(\"lane detect\", image)\n",
    "\n",
    "\tsnip = snip_image(image)\n",
    "\t# print(snip.shape)\n",
    "\tmask = mask_image(snip)\n",
    "\t\n",
    "\tblur = blur_image(mask)\n",
    "\tframe = thresh_image(mask)\n",
    "\tblur = blur_image(frame)\n",
    "\tedged= edge_image(blur)\n",
    "\t\n",
    "\tlines = lined_image(edged)\n",
    "\t\n",
    "\t# cv2.imshow(\"threshold\", frame)\n",
    "\t\n",
    "\t# cv2.imshow(\"snip\", snip)\n",
    "\t\n",
    "\t# cv2.imshow(\"mask\", mask)\n",
    "\t\n",
    "\t# cv2.imshow(\"blurred\", blur)\n",
    "\t# cv2.imshow(\"edged\",edged)\n",
    "\n",
    "\n",
    "\t#print(lines)\n",
    "\t\n",
    "\t\n",
    "\n",
    "\tif lines is not None:\n",
    "\t\tpt1L = (0,0)\n",
    "\t\tpt2L = (0,0)\n",
    "\t\tpt2R = (0,0)\n",
    "\t\tpt1R = (0,0)\n",
    "\t\tL = 0\n",
    "\t\tR = 0\n",
    "\t\tfor i in range(0,len(lines)):\n",
    "\t\t\trho = lines[i][0][0]\n",
    "\t\t\ttheta = lines[i][0][1]\n",
    "\t\t\t\n",
    "\t\t\ta = np.cos(theta)\n",
    "\t\t\tb = np.sin(theta)\n",
    "\t\t\t\n",
    "\t\t\tx0 = a*rho\n",
    "\t\t\ty0 = b*rho\n",
    "\t\t\t\n",
    "\t\t\tpt1 = ( int(x0 + 1000*(-b)), int(y0+1000*(a)))\n",
    "\t\t\tpt2 = ( int(x0 - 1000*(-b)), int(y0-1000*(a)))\n",
    "\n",
    "\t\t\tif pt2[1] < 0:\n",
    "\t\t\t\tpt1L = tuple(map(sum,zip(pt1L,pt1)))\n",
    "\t\t\t\tpt2L = tuple(map(sum,zip(pt2L,pt2)))\n",
    "\t\t\t\tL +=1\n",
    "\t\t\telse:\n",
    "\t\t\t\tpt1R = tuple(map(sum,zip(pt1R,pt1)))\n",
    "\t\t\t\tpt2R = tuple(map(sum,zip(pt2R,pt2)))\n",
    "\t\t\t\tR +=1\n",
    "\n",
    "\t\n",
    "\t\n",
    "\tcv2.line(snip, tuple(map(lambda x: int(x/L), pt1L)),tuple(map(lambda x: int(x/L), pt2L)), (0,0,255), 1)\n",
    "\tcv2.line(snip, tuple(map(lambda x: int(x/R), pt1R)),tuple(map(lambda x: int(x/R), pt2R)), (255,0,0), 1)\n",
    "\t\n",
    "\tcv2.imshow(\"lined\", snip)\n",
    "\tcv2.waitKey(0)"
   ]
  },
  {
   "cell_type": "markdown",
   "id": "64c0eba0",
   "metadata": {},
   "source": [
    "## 9. Run the Lane Detection Pipeline\n",
    "Call the `main()` function to execute the lane detection workflow and visualize the detected lane lines on the image."
   ]
  },
  {
   "cell_type": "code",
   "execution_count": 10,
   "id": "c5c85d44",
   "metadata": {},
   "outputs": [
    {
     "name": "stdout",
     "output_type": "stream",
     "text": [
      "(480, 640, 3)\n",
      "[[[ -91.            2.1118484 ]]\n",
      "\n",
      " [[ -93.            2.1293018 ]]\n",
      "\n",
      " [[ -85.            2.1118484 ]]\n",
      "\n",
      " [[ -99.            2.1293018 ]]\n",
      "\n",
      " [[ -72.            2.0769417 ]]\n",
      "\n",
      " [[ -81.            2.0943952 ]]\n",
      "\n",
      " [[-104.            2.146755  ]]\n",
      "\n",
      " [[-110.            2.1642082 ]]\n",
      "\n",
      " [[-102.            2.146755  ]]\n",
      "\n",
      " [[ -75.            2.0943952 ]]\n",
      "\n",
      " [[ -78.            2.0943952 ]]\n",
      "\n",
      " [[-113.            2.1642082 ]]\n",
      "\n",
      " [[-108.            2.146755  ]]\n",
      "\n",
      " [[ -63.            2.0594885 ]]\n",
      "\n",
      " [[-120.            2.1816616 ]]\n",
      "\n",
      " [[ -67.            2.0594885 ]]\n",
      "\n",
      " [[ -65.            2.0594885 ]]\n",
      "\n",
      " [[-122.            2.1816616 ]]\n",
      "\n",
      " [[ -56.            2.042035  ]]\n",
      "\n",
      " [[ -54.            2.042035  ]]\n",
      "\n",
      " [[ -52.            2.042035  ]]\n",
      "\n",
      " [[-128.            2.1991148 ]]\n",
      "\n",
      " [[ -59.            2.042035  ]]\n",
      "\n",
      " [[-132.            2.1991148 ]]\n",
      "\n",
      " [[-126.            2.1991148 ]]\n",
      "\n",
      " [[ -44.            2.024582  ]]\n",
      "\n",
      " [[ -41.            2.024582  ]]\n",
      "\n",
      " [[ -49.            2.024582  ]]\n",
      "\n",
      " [[-141.            2.2165682 ]]\n",
      "\n",
      " [[-137.            2.2165682 ]]\n",
      "\n",
      " [[-135.            2.2165682 ]]\n",
      "\n",
      " [[ -45.            2.0071287 ]]\n",
      "\n",
      " [[ -35.            2.0071287 ]]\n",
      "\n",
      " [[-143.            2.2165682 ]]\n",
      "\n",
      " [[ 274.            0.82030475]]\n",
      "\n",
      " [[ 280.            0.82030475]]\n",
      "\n",
      " [[ 273.            0.83775806]]\n",
      "\n",
      " [[ -39.            2.0071287 ]]\n",
      "\n",
      " [[ -32.            2.0071287 ]]\n",
      "\n",
      " [[-146.            2.2340214 ]]\n",
      "\n",
      " [[ 278.            0.7679449 ]]\n",
      "\n",
      " [[-152.            2.2340214 ]]\n",
      "\n",
      " [[ 277.            0.8552113 ]]\n",
      "\n",
      " [[  -1.            1.9547688 ]]\n",
      "\n",
      " [[-155.            2.2514746 ]]\n",
      "\n",
      " [[ -15.            1.9722221 ]]\n",
      "\n",
      " [[ -40.            1.9896753 ]]\n",
      "\n",
      " [[ -26.            1.9896753 ]]\n",
      "\n",
      " [[ -20.            1.9896753 ]]\n",
      "\n",
      " [[-161.            2.2514746 ]]\n",
      "\n",
      " [[-159.            2.2514746 ]]\n",
      "\n",
      " [[-170.            2.268928  ]]\n",
      "\n",
      " [[ 281.            0.80285144]]\n",
      "\n",
      " [[ 271.            0.8552113 ]]\n",
      "\n",
      " [[ -31.            1.9722221 ]]\n",
      "\n",
      " [[ -10.            1.9722221 ]]\n",
      "\n",
      " [[-157.            2.2514746 ]]]\n"
     ]
    }
   ],
   "source": [
    "main()"
   ]
  }
 ],
 "metadata": {
  "kernelspec": {
   "display_name": ".venv",
   "language": "python",
   "name": "python3"
  },
  "language_info": {
   "codemirror_mode": {
    "name": "ipython",
    "version": 3
   },
   "file_extension": ".py",
   "mimetype": "text/x-python",
   "name": "python",
   "nbconvert_exporter": "python",
   "pygments_lexer": "ipython3",
   "version": "3.12.1"
  }
 },
 "nbformat": 4,
 "nbformat_minor": 5
}
